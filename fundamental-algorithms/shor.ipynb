{
 "cells": [
  {
   "cell_type": "code",
   "execution_count": 47,
   "metadata": {},
   "outputs": [],
   "source": [
    "## Shor’s Algorithm"
   ]
  },
  {
   "cell_type": "code",
   "execution_count": 48,
   "metadata": {},
   "outputs": [],
   "source": [
    "import matplotlib.pyplot as plt\n",
    "import numpy as np\n",
    "from qiskit import QuantumCircuit, Aer, execute\n",
    "from qiskit.visualization import plot_histogram\n",
    "from math import gcd, pi\n",
    "from numpy.random import randint\n",
    "import pandas as pd\n",
    "from fractions import Fraction"
   ]
  },
  {
   "cell_type": "code",
   "execution_count": 49,
   "metadata": {},
   "outputs": [],
   "source": [
    "def qft_dagger(n): # Inverse QFT\n",
    "    \"\"\"n-qubit QFTdagger the first n qubits in circ\"\"\"\n",
    "    qc = QuantumCircuit(n)\n",
    "    # Don't forget the Swaps!\n",
    "    for qubit in range(n//2):\n",
    "        qc.swap(qubit, n-qubit-1)\n",
    "    for j in range(n):\n",
    "        for m in range(j):\n",
    "            qc.cp(-pi/float(2**(j-m)), m, j)\n",
    "        qc.h(j)\n",
    "    return qc"
   ]
  },
  {
   "cell_type": "code",
   "execution_count": 50,
   "metadata": {},
   "outputs": [],
   "source": [
    "def c_amod15(a, power):\n",
    "    \"\"\"Controlled multiplication by a mod 15\"\"\"\n",
    "    if a not in [2, 7, 8, 11, 13]:\n",
    "        raise ValueError(\"'a' must be 2, 7, 8, 11 or 13\")\n",
    "    U = QuantumCircuit(4)        \n",
    "    for iteration in range(power):\n",
    "        if a in [2,13]:\n",
    "            U.swap(0,1)\n",
    "            U.swap(1,2)\n",
    "            U.swap(2,3)\n",
    "        if a in [7,8]:\n",
    "            U.swap(2,3)\n",
    "            U.swap(1,2)\n",
    "            U.swap(0,1)\n",
    "        if a == 11:\n",
    "            U.swap(1,3)\n",
    "            U.swap(0,2)\n",
    "        if a in [7,11,13]:\n",
    "            for q in range(4):\n",
    "                U.x(q)\n",
    "    U = U.to_gate()\n",
    "    U.name = \"%i^%i mod 15\" % (a, power)\n",
    "    c_U = U.control()\n",
    "    return c_U"
   ]
  },
  {
   "cell_type": "code",
   "execution_count": 51,
   "metadata": {},
   "outputs": [],
   "source": [
    "def qpe_amod15(a):\n",
    "    n_count = 8\n",
    "    qc = QuantumCircuit(4+n_count, n_count)\n",
    "    for q in range(n_count):\n",
    "        qc.h(q)     # Initialize counting qubits in state |+>\n",
    "    qc.x(3+n_count) # And auxiliary register in state |1>\n",
    "    for q in range(n_count): # Do controlled-U operations\n",
    "        qc.append(c_amod15(a, 2**q), \n",
    "                 [q] + [i+n_count for i in range(4)])\n",
    "    qc.append(qft_dagger(n_count), range(n_count)) # Do inverse-QFT\n",
    "    qc.measure(range(n_count), range(n_count))\n",
    "    # Simulate Results\n",
    "    backend = Aer.get_backend('qasm_simulator')\n",
    "    # Setting memory=True below allows us to see a list of each sequential reading\n",
    "    result = execute(qc, backend, shots=1, memory=True).result()\n",
    "    readings = result.get_memory()\n",
    "    print(\"Register Reading: \" + readings[0])\n",
    "    phase = int(readings[0],2)/(2**n_count)\n",
    "    print(\"Corresponding Phase: %f\" % phase)\n",
    "    return phase"
   ]
  },
  {
   "cell_type": "code",
   "execution_count": 52,
   "metadata": {},
   "outputs": [
    {
     "name": "stdout",
     "output_type": "stream",
     "text": [
      "Register Reading: 00000000\n",
      "Corresponding Phase: 0.000000\n",
      "1\n",
      "[15, 1]\n"
     ]
    }
   ],
   "source": [
    "N = 15\n",
    "a = 11\n",
    "phase = qpe_amod15(a)\n",
    "frac = Fraction(phase).limit_denominator(15)\n",
    "s, r = frac.numerator, frac.denominator\n",
    "print(r)\n",
    "guesses = [gcd(a**(r//2)-1, N), gcd(a**(r//2)+1, N)]\n",
    "print(guesses)"
   ]
  },
  {
   "cell_type": "code",
   "execution_count": 53,
   "metadata": {},
   "outputs": [
    {
     "name": "stdout",
     "output_type": "stream",
     "text": [
      "a: 8\n",
      "\n",
      "Attempt 1: \n",
      "Register Reading: 01000000\n",
      "Corresponding Phase: 0.250000\n",
      "Result: r = 4\n",
      "Guessed Factors: 3 and 5\n",
      "*** Non-trivial factor found: 3 ***\n",
      "*** Non-trivial factor found: 5 ***\n"
     ]
    }
   ],
   "source": [
    "N = 15\n",
    "np.random.seed(2) # This is to make sure we get reproduceable results\n",
    "a = randint(2, N)\n",
    "while gcd(a, N) != 1:\n",
    "    a = randint(2, 15)\n",
    "print('a: %i' % a)\n",
    "\n",
    "factor_found = False\n",
    "attempt = 0\n",
    "while not factor_found:\n",
    "    attempt += 1\n",
    "    print('\\nAttempt %i: ' % attempt)\n",
    "    phase = qpe_amod15(a) # Phase = s/r\n",
    "    frac = Fraction(phase).limit_denominator(15) # Denominator should tell us r\n",
    "    s, r = frac.numerator, frac.denominator\n",
    "    print('Result: r = %i' % r)\n",
    "    if phase != 0:\n",
    "        # Guesses for factors are gcd(x^{r/2} +- 1, 15)\n",
    "        guesses = [gcd(a**(r//2)-1, N), gcd(a**(r//2)+1, N)]\n",
    "        print('Guessed Factors: %i and %i' % (guesses[0], guesses[1]))\n",
    "        for guess in guesses:\n",
    "            if guess != 1 and (15 % guess) == 0: # Check to see if guess is a factor\n",
    "                print('*** Non-trivial factor found: %i ***' % guess)\n",
    "                factor_found = True\n"
   ]
  }
 ],
 "metadata": {
  "kernelspec": {
   "display_name": "Python 3.9.12 ('base')",
   "language": "python",
   "name": "python3"
  },
  "language_info": {
   "codemirror_mode": {
    "name": "ipython",
    "version": 3
   },
   "file_extension": ".py",
   "mimetype": "text/x-python",
   "name": "python",
   "nbconvert_exporter": "python",
   "pygments_lexer": "ipython3",
   "version": "3.9.12"
  },
  "orig_nbformat": 4,
  "vscode": {
   "interpreter": {
    "hash": "9977aa44dbb7227eea4c6f56507b655642fd2d7df56103bd2656e1cd96cec546"
   }
  }
 },
 "nbformat": 4,
 "nbformat_minor": 2
}
