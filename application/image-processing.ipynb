{
 "cells": [
  {
   "cell_type": "code",
   "execution_count": null,
   "metadata": {},
   "outputs": [],
   "source": [
    "import qiskit as qk\n",
    "from qiskit import QuantumCircuit, Aer, IBMQ\n",
    "from qiskit import transpile, assemble\n",
    "from qiskit.tools.jupyter import *\n",
    "from qiskit.visualization import plot_histogram\n",
    "from math import pi\n",
    "from qiskit.compiler import transpile\n",
    "from qiskit.transpiler import PassManager\n",
    "from qiskit.transpiler.passes import Unroller"
   ]
  },
  {
   "cell_type": "code",
   "execution_count": null,
   "metadata": {},
   "outputs": [],
   "source": [
    "# FRQI"
   ]
  },
  {
   "cell_type": "code",
   "execution_count": null,
   "metadata": {},
   "outputs": [],
   "source": [
    "#theta = 0 # all pixels black\n",
    "theta = pi / 2\n",
    "#theta = pi / 4\n",
    "qc = QuantumCircuit(3)\n",
    "\n",
    "\n",
    "qc.h(0)\n",
    "qc.h(1)\n",
    "\n",
    "qc.barrier()\n",
    "#Pixel 1\n",
    "\n",
    "qc.cry(theta,0,2)\n",
    "qc.cx(0,1)\n",
    "qc.cry(-theta,1,2)\n",
    "qc.cx(0,1)\n",
    "qc.cry(theta,1,2)\n",
    "\n",
    "qc.barrier()\n",
    "#Pixel 2\n",
    "\n",
    "qc.x(1)\n",
    "qc.cry(theta,0,2)\n",
    "qc.cx(0,1)\n",
    "qc.cry(-theta,1,2)\n",
    "qc.cx(0,1)\n",
    "qc.cry(theta,1,2)\n",
    "\n",
    "qc.barrier()\n",
    "\n",
    "qc.x(1)\n",
    "qc.x(0)\n",
    "qc.cry(theta,0,2)\n",
    "qc.cx(0,1)\n",
    "qc.cry(-theta,1,2)\n",
    "qc.cx(0,1)\n",
    "qc.cry(theta,1,2)\n",
    "\n",
    "\n",
    "qc.barrier()\n",
    "\n",
    "qc.x(1)\n",
    "\n",
    "qc.cry(theta,0,2)\n",
    "qc.cx(0,1)\n",
    "qc.cry(-theta,1,2)\n",
    "qc.cx(0,1)\n",
    "qc.cry(theta,1,2)\n",
    "\n",
    "qc.measure_all()\n",
    "\n",
    "qc.draw('mpl')"
   ]
  },
  {
   "cell_type": "code",
   "execution_count": null,
   "metadata": {},
   "outputs": [],
   "source": [
    "aer_sim = Aer.get_backend('aer_simulator')\n",
    "t_qc = transpile(qc, aer_sim)\n",
    "qobj = assemble(t_qc, shots=4096)\n",
    "result = aer_sim.run(qobj).result() \n",
    "counts = result.get_counts(qc)\n",
    "print(counts)\n",
    "plot_histogram(counts)"
   ]
  },
  {
   "cell_type": "code",
   "execution_count": null,
   "metadata": {},
   "outputs": [],
   "source": [
    "print(\"Depth : \", qc.depth())\n",
    "print(\"Operations: \", qc.count_ops())"
   ]
  },
  {
   "cell_type": "code",
   "execution_count": null,
   "metadata": {},
   "outputs": [],
   "source": [
    "pass_ = Unroller(['u3', 'cx'])\n",
    "pm = PassManager(pass_)\n",
    "new_circ = pm.run(qc)\n",
    "new_circ.draw('mpl')"
   ]
  },
  {
   "cell_type": "code",
   "execution_count": null,
   "metadata": {},
   "outputs": [],
   "source": [
    "print(\"Depth : \", new_circ.depth())\n",
    "print(\"Operations: \", new_circ.count_ops())"
   ]
  },
  {
   "cell_type": "code",
   "execution_count": null,
   "metadata": {},
   "outputs": [],
   "source": [
    "# from qiskit.providers.fake_provider import FakeAthens\n",
    "# fake_athens = FakeAthens()\n",
    "# # The device coupling map is needed for transpiling to correct\n",
    "# # CNOT gates before simulation\n",
    "# coupling_map = fake_athens.configuration().coupling_map\n",
    "# optimized_3 = transpile(qc, backend=fake_athens, seed_transpiler=11, optimization_level=3)\n",
    "# print('gates = ', optimized_3.count_ops())\n",
    "# print('depth = ', optimized_3.depth())"
   ]
  },
  {
   "cell_type": "code",
   "execution_count": null,
   "metadata": {},
   "outputs": [],
   "source": [
    "# t_qc = transpile(qc, fake_athens, optimization_level=3)\n",
    "# qobj = assemble(t_qc, shots=4096)\n",
    "# result = fake_athens.run(qobj).result()\n",
    "# counts = result.get_counts(qc)\n",
    "# print(counts)\n",
    "# plot_histogram(counts)"
   ]
  },
  {
   "cell_type": "code",
   "execution_count": null,
   "metadata": {},
   "outputs": [],
   "source": [
    "# NEQR"
   ]
  },
  {
   "cell_type": "code",
   "execution_count": null,
   "metadata": {},
   "outputs": [],
   "source": [
    "import numpy as np\n",
    "from qiskit import QuantumRegister, ClassicalRegister\n",
    "\n",
    "# Initialize the quantum circuit for the image \n",
    "# Pixel position\n",
    "idx = QuantumRegister(2, 'idx')\n",
    "# grayscale pixel intensity value\n",
    "intensity = QuantumRegister(8,'intensity')\n",
    "# classical register\n",
    "cr = ClassicalRegister(10, 'cr')\n",
    "\n",
    "# create the quantum circuit for the image\n",
    "qc_image = QuantumCircuit(intensity, idx, cr)\n",
    "\n",
    "# set the total number of qubits\n",
    "num_qubits = qc_image.num_qubits\n",
    "\n",
    "qc_image.draw('mpl')"
   ]
  },
  {
   "cell_type": "code",
   "execution_count": null,
   "metadata": {},
   "outputs": [],
   "source": [
    "# Initialize the quantum circuit\n",
    "\n",
    "# Optional: Add Identity gates to the intensity values\n",
    "for idx in range(intensity.size):\n",
    "    qc_image.i(idx)\n",
    "\n",
    "# Add Hadamard gates to the pixel positions    \n",
    "qc_image.h(8)\n",
    "qc_image.h(9)\n",
    "\n",
    "# Separate with barrier so it is easy to read later.\n",
    "qc_image.barrier()\n",
    "qc_image.draw('mpl')"
   ]
  },
  {
   "cell_type": "code",
   "execution_count": null,
   "metadata": {},
   "outputs": [],
   "source": [
    "# Encode the first pixel, since its value is 0, we will apply ID gates here:\n",
    "for idx in range(num_qubits):\n",
    "    qc_image.i(idx)\n",
    "\n",
    "qc_image.barrier()\n",
    "qc_image.draw('mpl')"
   ]
  },
  {
   "cell_type": "code",
   "execution_count": null,
   "metadata": {},
   "outputs": [],
   "source": [
    "# Encode the second pixel whose value is (01100100):\n",
    "value01 = '01100100'\n",
    "\n",
    "# Add the NOT gate to set the position at 01:\n",
    "qc_image.x(qc_image.num_qubits-1)\n",
    "\n",
    "# We'll reverse order the value so it is in the same order when measured.\n",
    "for idx, px_value in enumerate(value01[::-1]):\n",
    "    if(px_value=='1'):\n",
    "        qc_image.ccx(num_qubits-1, num_qubits-2, idx)\n",
    "\n",
    "# Reset the NOT gate\n",
    "qc_image.x(num_qubits-1)\n",
    "\n",
    "qc_image.barrier()\n",
    "qc_image.draw('mpl')"
   ]
  },
  {
   "cell_type": "code",
   "execution_count": null,
   "metadata": {},
   "outputs": [],
   "source": [
    "# Encode the second pixel whose value is (11001000):\n",
    "value10 = '11001000'\n",
    "\n",
    "# Add the 0CNOT gates, where 0 is on X pixel:\n",
    "qc_image.x(num_qubits-2)\n",
    "for idx, px_value in enumerate(value10[::-1]):\n",
    "    if(px_value=='1'):\n",
    "        qc_image.ccx(num_qubits-1, num_qubits-2, idx)\n",
    "qc_image.x(num_qubits-2)\n",
    "\n",
    "\n",
    "qc_image.barrier()\n",
    "qc_image.draw('mpl')\n",
    "\n",
    "# Encode the third pixel whose value is (11001000):\n",
    "value10 = '11001000'\n",
    "\n",
    "# Add the 0CNOT gates, where 0 is on X pixel:\n",
    "qc_image.x(num_qubits-2)\n",
    "for idx, px_value in enumerate(value10[::-1]):\n",
    "    if(px_value=='1'):\n",
    "        qc_image.ccx(num_qubits-1, num_qubits-2, idx)\n",
    "qc_image.x(num_qubits-2)\n",
    "\n",
    "\n",
    "qc_image.barrier()\n",
    "qc_image.draw('mpl')"
   ]
  },
  {
   "cell_type": "code",
   "execution_count": null,
   "metadata": {},
   "outputs": [],
   "source": [
    "# Encode the last pixel whose value is (11111111):\n",
    "value11 = '11111111'\n",
    "\n",
    "# Add the CCNOT gates:\n",
    "for idx, px_value in enumerate(value11):\n",
    "    if(px_value=='1'):\n",
    "        qc_image.ccx(num_qubits-1,num_qubits-2, idx)\n",
    "\n",
    "qc_image.barrier()\n",
    "qc_image.measure(range(10),range(10))\n",
    "qc_image.draw('mpl')\n"
   ]
  },
  {
   "cell_type": "code",
   "execution_count": null,
   "metadata": {},
   "outputs": [],
   "source": [
    "print('Circuit dimensions')\n",
    "print('Circuit depth: ', qc_image.decompose().depth())\n",
    "print('Circuit size: ', qc_image.decompose().size())\n",
    "\n",
    "qc_image.decompose().count_ops()"
   ]
  },
  {
   "cell_type": "code",
   "execution_count": null,
   "metadata": {},
   "outputs": [],
   "source": [
    "aer_sim = Aer.get_backend('aer_simulator')\n",
    "t_qc_image = transpile(qc_image, aer_sim)\n",
    "qobj = assemble(t_qc_image, shots=8192)\n",
    "job_neqr = aer_sim.run(qobj)\n",
    "result_neqr = job_neqr.result()\n",
    "counts_neqr = result_neqr.get_counts()\n",
    "print('Encoded: 00 = 0')\n",
    "print('Encoded: 01 = 01100100')\n",
    "print('Encoded: 10 = 11001000')\n",
    "print('Encoded: 11 = 1')\n",
    "\n",
    "print(counts_neqr)\n",
    "plot_histogram(counts_neqr)"
   ]
  },
  {
   "cell_type": "code",
   "execution_count": null,
   "metadata": {},
   "outputs": [],
   "source": [
    "# from qiskit.providers.fake_provider import FakeTokyo\n",
    "# fake_tokyo = FakeTokyo()\n",
    "# # The device coupling map is needed for transpiling to correct\n",
    "# # CNOT gates before simulation\n",
    "# coupling_map = fake_tokyo.configuration().coupling_map\n",
    "# optimized_3 = transpile(qc_image, backend=fake_tokyo, seed_transpiler=11, optimization_level=3)\n",
    "# print('gates = ', optimized_3.count_ops())\n",
    "# print('depth = ', optimized_3.depth())"
   ]
  },
  {
   "cell_type": "code",
   "execution_count": null,
   "metadata": {},
   "outputs": [],
   "source": [
    "# t_qc_image = transpile(qc_image, fake_tokyo, optimization_level=3)\n",
    "# qobj = assemble(t_qc_image, shots=4096)\n",
    "# result = fake_tokyo.run(qobj).result()\n",
    "# counts = result.get_counts(qc)\n",
    "# print(counts)\n",
    "# plot_histogram(counts)"
   ]
  },
  {
   "cell_type": "code",
   "execution_count": null,
   "metadata": {},
   "outputs": [],
   "source": [
    "# QPIE and Edge Detection"
   ]
  },
  {
   "cell_type": "code",
   "execution_count": null,
   "metadata": {},
   "outputs": [],
   "source": [
    "# Importing standard Qiskit libraries and configuring account\n",
    "from qiskit import *\n",
    "from qiskit import IBMQ\n",
    "from qiskit.compiler import transpile, assemble\n",
    "from qiskit.tools.jupyter import *\n",
    "from qiskit.visualization import *\n",
    "\n",
    "import numpy as np\n",
    "import matplotlib.pyplot as plt\n",
    "from matplotlib import style\n",
    "style.use('bmh')"
   ]
  },
  {
   "cell_type": "code",
   "execution_count": null,
   "metadata": {},
   "outputs": [],
   "source": [
    "# A 8x8 binary image represented as a numpy array\n",
    "image = np.array([[0, 0, 0, 0, 0, 0, 0, 0],\n",
    "                  [0, 1, 1, 1, 1, 1, 0, 0],\n",
    "                  [0, 1, 1, 1, 1, 1, 1, 0],\n",
    "                  [0, 1, 1, 1, 1, 1, 1, 0],\n",
    "                  [0, 1, 1, 1, 1, 1, 1, 0],\n",
    "                  [0, 0, 0, 1, 1, 1, 1, 0],\n",
    "                  [0, 0, 0, 1, 1, 1, 1, 0],\n",
    "                  [0, 0, 0, 0, 0, 0, 0, 0]])\n",
    "\n",
    "# Function for plotting the image using matplotlib\n",
    "def plot_image(img, title: str):\n",
    "    plt.title(title)\n",
    "    plt.xticks(range(img.shape[0]))\n",
    "    plt.yticks(range(img.shape[1]))\n",
    "    plt.imshow(img, extent=[0, img.shape[0], img.shape[1], 0], cmap='viridis')\n",
    "    plt.show()\n",
    "    \n",
    "plot_image(image, 'Original Image')"
   ]
  },
  {
   "cell_type": "code",
   "execution_count": null,
   "metadata": {},
   "outputs": [],
   "source": [
    "# Initialize some global variable for number of qubits\n",
    "data_qb = 6\n",
    "anc_qb = 1\n",
    "total_qb = data_qb + anc_qb\n",
    "\n",
    "# Initialize the amplitude permutation unitary\n",
    "D2n_1 = np.roll(np.identity(2**total_qb), 1, axis=1)"
   ]
  },
  {
   "cell_type": "code",
   "execution_count": null,
   "metadata": {},
   "outputs": [],
   "source": [
    "# Convert the raw pixel values to probability amplitudes\n",
    "def amplitude_encode(img_data):\n",
    "    \n",
    "    # Calculate the RMS value\n",
    "    rms = np.sqrt(np.sum(np.sum(img_data**2, axis=1)))\n",
    "    \n",
    "    # Create normalized image\n",
    "    image_norm = []\n",
    "    for arr in img_data:\n",
    "        for ele in arr:\n",
    "            image_norm.append(ele / rms)\n",
    "        \n",
    "    # Return the normalized image as a numpy array\n",
    "    return np.array(image_norm)\n",
    "\n",
    "# Get the amplitude ancoded pixel values\n",
    "# Horizontal: Original image\n",
    "image_norm_h = amplitude_encode(image)\n",
    "\n",
    "# Vertical: Transpose of Original image\n",
    "image_norm_v = amplitude_encode(image.T)"
   ]
  },
  {
   "cell_type": "code",
   "execution_count": null,
   "metadata": {},
   "outputs": [],
   "source": [
    "# Create the circuit for horizontal scan\n",
    "qc_h = QuantumCircuit(total_qb)\n",
    "qc_h.initialize(image_norm_h, range(1, total_qb))\n",
    "qc_h.h(0)\n",
    "qc_h.unitary(D2n_1, range(total_qb))\n",
    "qc_h.h(0)\n",
    "display(qc_h.draw('mpl', fold=-1))\n",
    "\n",
    "# Create the circuit for vertical scan\n",
    "qc_v = QuantumCircuit(total_qb)\n",
    "qc_v.initialize(image_norm_v, range(1, total_qb))\n",
    "qc_v.h(0)\n",
    "qc_v.unitary(D2n_1, range(total_qb))\n",
    "qc_v.h(0)\n",
    "display(qc_v.draw('mpl', fold=-1))\n",
    "\n",
    "# Combine both circuits into a single list\n",
    "circ_list = [qc_h, qc_v]"
   ]
  },
  {
   "cell_type": "code",
   "execution_count": null,
   "metadata": {},
   "outputs": [],
   "source": [
    "# Simulating the cirucits\n",
    "back = Aer.get_backend('statevector_simulator')\n",
    "results = execute(circ_list, backend=back).result()\n",
    "sv_h = results.get_statevector(qc_h)\n",
    "sv_v = results.get_statevector(qc_v)\n",
    "\n",
    "# from qiskit.visualization import array_to_latex\n",
    "# print('Horizontal scan statevector:')\n",
    "# display(array_to_latex(sv_h[:30], max_size=30))\n",
    "# print()\n",
    "# print('Vertical scan statevector:')\n",
    "# display(array_to_latex(sv_v[:30], max_size=30))"
   ]
  },
  {
   "cell_type": "code",
   "execution_count": null,
   "metadata": {},
   "outputs": [],
   "source": [
    "# Classical postprocessing for plotting the output\n",
    "\n",
    "# Defining a lambda function for\n",
    "# thresholding to binary values\n",
    "threshold = lambda amp: (amp > 1e-15 or amp < -1e-15)\n",
    "\n",
    "# Selecting odd states from the raw statevector and\n",
    "# reshaping column vector of size 64 to an 8x8 matrix\n",
    "edge_scan_h = np.abs(np.array([1 if threshold(sv_h[2*i+1].real) else 0 for i in range(2**data_qb)])).reshape(8, 8)\n",
    "edge_scan_v = np.abs(np.array([1 if threshold(sv_v[2*i+1].real) else 0 for i in range(2**data_qb)])).reshape(8, 8).T\n",
    "\n",
    "# Plotting the Horizontal and vertical scans\n",
    "plot_image(edge_scan_h, 'Horizontal scan output')\n",
    "plot_image(edge_scan_v, 'Vertical scan output')"
   ]
  },
  {
   "cell_type": "code",
   "execution_count": null,
   "metadata": {},
   "outputs": [],
   "source": [
    "# Combining the horizontal and vertical component of the result\n",
    "edge_scan_sim = edge_scan_h | edge_scan_v\n",
    "\n",
    "# Plotting the original and edge-detected images\n",
    "plot_image(image, 'Original image')\n",
    "plot_image(edge_scan_sim, 'Edge Detected image')"
   ]
  },
  {
   "cell_type": "code",
   "execution_count": null,
   "metadata": {},
   "outputs": [],
   "source": [
    "# Load the IBMQ account\n",
    "IBMQ.load_account()\n",
    "\n",
    "# Get the provider and backend\n",
    "provider = IBMQ.get_provider(hub='ibm-q', group='open')\n",
    "backend = provider.get_backend('ibmq_manila')"
   ]
  },
  {
   "cell_type": "code",
   "execution_count": null,
   "metadata": {},
   "outputs": [],
   "source": [
    "# Create a 2x2 image to be run on the hardware\n",
    "# The pixels in `image_small` correspond to the pixels at\n",
    "# (6, 2), (6, 3), (7, 2), (7, 3) respectively\n",
    "image_small = image[6:8, 2:4]\n",
    "\n",
    "# Plotting the image_small using matplotlib\n",
    "plot_image(image_small, 'Cropped image')"
   ]
  },
  {
   "cell_type": "code",
   "execution_count": null,
   "metadata": {},
   "outputs": [],
   "source": [
    "# Initialize the number of qubits\n",
    "data_qb = 2\n",
    "anc_qb = 1\n",
    "total_qb = data_qb + anc_qb\n",
    "\n",
    "# Create the circuit for horizontal scan\n",
    "qc_small_h = QuantumCircuit(total_qb)\n",
    "qc_small_h.x(1)\n",
    "qc_small_h.h(0)\n",
    "\n",
    "# Decrement gate - START\n",
    "qc_small_h.x(0)\n",
    "qc_small_h.cx(0, 1)\n",
    "qc_small_h.ccx(0, 1, 2)\n",
    "# Decrement gate - END\n",
    "\n",
    "qc_small_h.h(0)\n",
    "qc_small_h.measure_all()\n",
    "display(qc_small_h.draw('mpl'))\n",
    "\n",
    "# Create the circuit for vertical scan\n",
    "qc_small_v = QuantumCircuit(total_qb)\n",
    "qc_small_v.x(2)\n",
    "qc_small_v.h(0)\n",
    "\n",
    "# Decrement gate - START\n",
    "qc_small_v.x(0)\n",
    "qc_small_v.cx(0, 1)\n",
    "qc_small_v.ccx(0, 1, 2)\n",
    "# Decrement gate - END\n",
    "\n",
    "qc_small_v.h(0)\n",
    "qc_small_v.measure_all()\n",
    "display(qc_small_v.draw('mpl'))\n",
    "\n",
    "# Combine both circuits into a single list\n",
    "circ_list = [qc_small_h, qc_small_v]"
   ]
  },
  {
   "cell_type": "code",
   "execution_count": null,
   "metadata": {},
   "outputs": [],
   "source": [
    "# Transpile the circuits for optimized execution on the backend\n",
    "qc_small_h_t = transpile(qc_small_h, backend=backend, optimization_level=3)\n",
    "qc_small_v_t = transpile(qc_small_v, backend=backend, optimization_level=3)\n",
    "\n",
    "# Combining both circuits into a list\n",
    "circ_list_t = [qc_small_h_t, qc_small_v_t]\n",
    "\n",
    "# Drawing the transpiled circuit\n",
    "display(circ_list_t[0].draw('mpl', fold=-1))\n",
    "display(circ_list_t[1].draw('mpl', fold=-1))\n"
   ]
  },
  {
   "cell_type": "code",
   "execution_count": 64,
   "metadata": {},
   "outputs": [],
   "source": [
    "from qiskit.tools.monitor import job_monitor\n",
    "\n",
    "# Executing the circuits on the backend\n",
    "job = execute(circ_list_t, backend=backend, shots=8192)\n",
    "job_monitor(job)"
   ]
  },
  {
   "cell_type": "code",
   "execution_count": null,
   "metadata": {},
   "outputs": [],
   "source": [
    "# Getting the resultant probability distribution after measurement\n",
    "result = job.result()\n",
    "counts_h = result.get_counts(qc_small_h)\n",
    "counts_v = result.get_counts(qc_small_v)\n",
    "\n",
    "print('Counts for Horizontal scan:')\n",
    "display(plot_histogram(counts_h))\n",
    "\n",
    "print('\\n\\nCounts for Vertical scan:')\n",
    "display(plot_histogram(counts_v))"
   ]
  },
  {
   "cell_type": "code",
   "execution_count": null,
   "metadata": {},
   "outputs": [],
   "source": [
    "# Extracting counts for odd-numbered states\n",
    "edge_scan_small_h = np.array([counts_h[f'{2*i+1:03b}'] for i in range(2**data_qb)]).reshape(2, 2)\n",
    "edge_scan_small_v = np.array([counts_v[f'{2*i+1:03b}'] for i in range(2**data_qb)]).reshape(2, 2).T\n",
    "\n",
    "plot_image(edge_scan_small_h, 'Horizontal scan output')\n",
    "plot_image(edge_scan_small_v, 'Vertical scan output')"
   ]
  },
  {
   "cell_type": "code",
   "execution_count": null,
   "metadata": {},
   "outputs": [],
   "source": [
    "edge_detected_image_small = edge_scan_small_h + edge_scan_small_v\n",
    "\n",
    "# Plotting the original and edge-detected images\n",
    "plot_image(edge_detected_image_small, 'Full Edge Detected Image')"
   ]
  }
 ],
 "metadata": {
  "kernelspec": {
   "display_name": "Python 3.9.12 ('base')",
   "language": "python",
   "name": "python3"
  },
  "language_info": {
   "codemirror_mode": {
    "name": "ipython",
    "version": 3
   },
   "file_extension": ".py",
   "mimetype": "text/x-python",
   "name": "python",
   "nbconvert_exporter": "python",
   "pygments_lexer": "ipython3",
   "version": "3.9.12"
  },
  "orig_nbformat": 4,
  "vscode": {
   "interpreter": {
    "hash": "9977aa44dbb7227eea4c6f56507b655642fd2d7df56103bd2656e1cd96cec546"
   }
  }
 },
 "nbformat": 4,
 "nbformat_minor": 2
}
