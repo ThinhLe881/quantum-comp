{
 "cells": [
  {
   "cell_type": "code",
   "execution_count": 111,
   "metadata": {},
   "outputs": [],
   "source": [
    "import pennylane as qml\n",
    "from pennylane import numpy as np"
   ]
  },
  {
   "cell_type": "code",
   "execution_count": 112,
   "metadata": {},
   "outputs": [],
   "source": [
    "dev1 = qml.device('default.qubit', wires=1)\n",
    "\n",
    "@qml.qnode(dev1)\n",
    "def circuit(params):\n",
    "    qml.RX(params[0], wires=0)\n",
    "    qml.RY(params[1], wires=0)\n",
    "    return qml.expval(qml.PauliZ(0))"
   ]
  },
  {
   "cell_type": "code",
   "execution_count": 113,
   "metadata": {},
   "outputs": [
    {
     "name": "stdout",
     "output_type": "stream",
     "text": [
      "0.8515405859048367\n"
     ]
    }
   ],
   "source": [
    "print(circuit([0.54, 0.12]))"
   ]
  },
  {
   "cell_type": "code",
   "execution_count": 114,
   "metadata": {},
   "outputs": [
    {
     "name": "stdout",
     "output_type": "stream",
     "text": [
      "[0.92577029 0.07422971]\n"
     ]
    }
   ],
   "source": [
    "@qml.qnode(dev1)\n",
    "def circuit(params):\n",
    "    qml.RX(params[0], wires=0)\n",
    "    qml.RY(params[1], wires=0)\n",
    "    return qml.probs(wires=0)\n",
    "\n",
    "print(circuit([0.54, 0.12]))"
   ]
  },
  {
   "cell_type": "code",
   "execution_count": 115,
   "metadata": {},
   "outputs": [],
   "source": [
    "# dcircuit = qml.grad(circuit, argnum=0)\n",
    "# print(dcircuit([0.54, 0.12]))"
   ]
  },
  {
   "cell_type": "code",
   "execution_count": 116,
   "metadata": {},
   "outputs": [
    {
     "name": "stdout",
     "output_type": "stream",
     "text": [
      "[9.99933753e-01 6.62470850e-05]\n"
     ]
    }
   ],
   "source": [
    "def cost(x):\n",
    "    return circuit(x)\n",
    "\n",
    "init_params = np.array([0.011, 0.012], requires_grad=True)\n",
    "print(cost(init_params))"
   ]
  },
  {
   "cell_type": "code",
   "execution_count": 117,
   "metadata": {},
   "outputs": [],
   "source": [
    "dev_gaussian = qml.device(\"default.gaussian\", wires=1)\n",
    "\n",
    "@qml.qnode (dev_gaussian) \n",
    "def mean_photon_gaussian(mag_alpha, phase_alpha, phi):\n",
    "    qml.Displacement(mag_alpha, phase_alpha, wires=0) \n",
    "    qml.Rotation (phi, wires=0) \n",
    "    return qml.expval(qml.NumberOperator(0))"
   ]
  },
  {
   "cell_type": "code",
   "execution_count": 118,
   "metadata": {},
   "outputs": [
    {
     "name": "stdout",
     "output_type": "stream",
     "text": [
      "0.9995500506249999\n"
     ]
    }
   ],
   "source": [
    "def cost(params):\n",
    "    return (mean_photon_gaussian(params[0], params[1], params[2]) - 1.0) ** 2\n",
    "\n",
    "init_params = np.array([0.015, 0.02, 0.005], requires_grad=True)\n",
    "print(cost(init_params))"
   ]
  },
  {
   "cell_type": "code",
   "execution_count": 119,
   "metadata": {},
   "outputs": [
    {
     "name": "stdout",
     "output_type": "stream",
     "text": [
      "Cost after step     5:  0.3208685\n",
      "Cost after step    10:  0.9999628\n",
      "Cost after step    15:  0.5648670\n",
      "Cost after step    20:  0.9996791\n",
      "Cost after step    25:  0.1418484\n",
      "Cost after step    30:  0.7655847\n",
      "Cost after step    35:  0.1680231\n",
      "Cost after step    40:  0.3898240\n",
      "Cost after step    45:  0.9928800\n",
      "Cost after step    50:  0.3548833\n",
      "Cost after step    55:  0.0121444\n",
      "Cost after step    60:  0.3890158\n",
      "Cost after step    65:  0.9714638\n",
      "Cost after step    70:  0.9999116\n",
      "Cost after step    75:  0.2063307\n",
      "Cost after step    80:  0.9860039\n",
      "Cost after step    85:  0.0638332\n",
      "Cost after step    90:  0.5363780\n",
      "Cost after step    95:  0.8276998\n",
      "Cost after step   100:  0.9978378\n",
      "Optimized rotation angles: [0.03288923 0.02       0.005     ]\n"
     ]
    }
   ],
   "source": [
    "# initialise the optimizer \n",
    "opt = qml.GradientDescentOptimizer(stepsize=0.4)\n",
    "\n",
    "# set the number of steps \n",
    "steps = 100 \n",
    "# set the initial parameter values \n",
    "params = init_params\n",
    "\n",
    "for i in range(steps):\n",
    "    # update the circuit parameters \n",
    "    params = opt.step(cost, params)\n",
    "\n",
    "    if (i + 1) % 5 == 0:\n",
    "        print(\"Cost after step {:5d}: {: .7f}\".format(i + 1, cost(params)))\n",
    "\n",
    "print(\"Optimized rotation angles: {}\".format(params))"
   ]
  },
  {
   "cell_type": "code",
   "execution_count": 120,
   "metadata": {},
   "outputs": [
    {
     "name": "stdout",
     "output_type": "stream",
     "text": [
      "Cost after step     1: 0.999118\n",
      "Cost after step     2: 0.998273\n",
      "Cost after step     3: 0.996618\n",
      "Cost after step     4: 0.993382\n",
      "Cost after step     5: 0.987074\n",
      "Cost after step     6: 0.974837\n",
      "Cost after step     7: 0.951332\n",
      "Cost after step     8: 0.907043\n",
      "Cost after step     9: 0.826649\n",
      "Cost after step    10: 0.690812\n",
      "Cost after step    11: 0.490303\n",
      "Cost after step    12: 0.258845\n",
      "Cost after step    13: 0.083224\n",
      "Cost after step    14: 0.013179\n",
      "Cost after step    15: 0.001001\n",
      "Cost after step    16: 0.000049\n",
      "Cost after step    17: 0.000002\n",
      "Cost after step    18: 0.000000\n",
      "Cost after step    19: 0.000000\n",
      "Cost after step    20: 0.000000\n",
      "Optimized mag_alpha: 0.999994\n",
      "Optimized phase_alpha: 0.020000\n",
      "Optimized phi: 0.005000\n"
     ]
    }
   ],
   "source": [
    "# initialise the optimizer \n",
    "opt = qml.GradientDescentOptimizer(stepsize=0.1)\n",
    "# set the number of steps \n",
    "steps = 20 \n",
    "# set the initial parameter values \n",
    "params = init_params\n",
    "\n",
    "for i in range(steps):\n",
    "    # update the circuit parameters \n",
    "    params = opt.step(cost, params)\n",
    "    print(\"Cost after step {:5d}: {:8f}\".format(i + 1, cost(params)))\n",
    "\n",
    "print(\"Optimized mag_alpha: {:8f}\".format(params[0])) \n",
    "print(\"Optimized phase_alpha: {:8f}\".format(params[1])) \n",
    "print(\"Optimized phi: {:8f}\".format(params[2]))"
   ]
  },
  {
   "cell_type": "code",
   "execution_count": 121,
   "metadata": {},
   "outputs": [],
   "source": [
    "# dev_fock = qml.device(\"strawberryfields.fock\", wires=2, cutoff_dim=2)\n",
    "\n",
    "# @qml.qnode(dev_fock, diff_method=\"parameter-shift\") \n",
    "# def photon_redirection(params):\n",
    "#     qml.FockState(1, wires=0) \n",
    "#     qml.Beamsplitter(params[0], params[1], wires=[0, 1]) \n",
    "#     return qml.expval(qml.NumberOperator(1))"
   ]
  },
  {
   "cell_type": "code",
   "execution_count": 122,
   "metadata": {},
   "outputs": [],
   "source": [
    "# def cost(params):\n",
    "#     return -photon_redirection(params)\n",
    "\n",
    "# init_params = np.array([0.01, 0.01], requires_grad=True)\n",
    "# print(cost(init_params))"
   ]
  },
  {
   "cell_type": "code",
   "execution_count": 123,
   "metadata": {},
   "outputs": [],
   "source": [
    "# # initialise the optimizer \n",
    "# opt = qml.GradientDescentOptimizer(stepsize=0.4)\n",
    "\n",
    "# # set the number of steps \n",
    "# steps = 100 \n",
    "# # set the initial parameter values \n",
    "# params = init_params\n",
    "\n",
    "# for i in range(steps):\n",
    "#     # update the circuit parameters \n",
    "#     params = opt.step(cost, params)\n",
    "\n",
    "#     if (i + 1) % 5 == 0:\n",
    "#         print(\"Cost after step {:5d}: {: .7f}\".format(i + 1, cost(params)))\n",
    "\n",
    "# print(\"Optimized rotation angles: {}\".format(params))"
   ]
  },
  {
   "cell_type": "code",
   "execution_count": 124,
   "metadata": {},
   "outputs": [],
   "source": [
    "# # create the devices \n",
    "# dev_qubit = qml.device(\"default.qubit\", wires=1) \n",
    "# dev_fock = qml.device(\"strawberryfields.fock\", wires=2, cutoff_dim=10)\n",
    "\n",
    "# @qml.qnode (dev_qubit) \n",
    "# def qubit_rotation (phi1, phi2):\n",
    "#     \"\"\"Qubit rotation QNode\"\"\" \n",
    "#     qml. RX(phi1, wires=0) \n",
    "#     qml. RY(phi2, wires=0) \n",
    "#     return qml.expval(qml.Pauliz(0))\n",
    "\n",
    "# @qml.qnode (dev_fock, diff_method=\"parameter-shift\") \n",
    "# def photon_redirection(params) :\n",
    "#     \"\"\"The photon redirection QNode\"\"\" \n",
    "#     qml.FockState(1, wires=0) \n",
    "#     qml.Beamsplitter(params[0], params[1], wires=[0, 1]) \n",
    "#     return qml.expval(qml.NumberOperator(1))\n",
    "\n",
    "# def squared_difference(x, y):\n",
    "#     \"\"\"Classical node to compute the squared difference \n",
    "#     between two inputs\"\"\"\n",
    "#     return np.abs(x - y) ** 2"
   ]
  },
  {
   "cell_type": "code",
   "execution_count": 125,
   "metadata": {},
   "outputs": [],
   "source": [
    "# def cost(params, phi1=0.5, phi2=0.1):\n",
    "#     \"\"\"Returns the squared difference between the photon-redirection \n",
    "#     and qubit-rotation QNodes, for fixed values of the qubit rotation \n",
    "#     angles phi1 and phi2\"\"\"\n",
    "#     qubit_result = qubit_rotation(phi1, phi2) \n",
    "#     photon_result = photon_redirection(params) \n",
    "#     return squared_difference(qubit_result, photon_result)"
   ]
  },
  {
   "cell_type": "code",
   "execution_count": 126,
   "metadata": {},
   "outputs": [],
   "source": [
    "# # initialise the optimizer\n",
    "# opt = qml.GradientDescentOptimizer (stepsize=0.4)\n",
    "# # set the number of steps \n",
    "# steps = 100\n",
    "# # set the initial parameter values\n",
    "# params = np.array([0.01, 0.01], requires_grad=True)\n",
    "\n",
    "# for i in range(steps):\n",
    "#     # update the circuit parameters \n",
    "#     params = opt.step(cost, params)\n",
    "#     if (i + 1) % 5 == 0:\n",
    "#         print(\"Cost after step {:5d}: {: .7f}\".format(i + 1, cost(params)))\n",
    "        \n",
    "# print(\"Optimized rotation angles: {}\".format(params))"
   ]
  },
  {
   "cell_type": "code",
   "execution_count": 127,
   "metadata": {},
   "outputs": [],
   "source": [
    "# result = [1.20671364, 0.01]\n",
    "# print(photon_redirection(result))\n",
    "# print(qubit_rotation(0.5, 0.1))"
   ]
  },
  {
   "cell_type": "code",
   "execution_count": 128,
   "metadata": {},
   "outputs": [
    {
     "name": "stdout",
     "output_type": "stream",
     "text": [
      "[0.92577029 0.07422971]\n"
     ]
    }
   ],
   "source": [
    "@qml.qnode(dev1)\n",
    "def qcircuit(params):\n",
    "    qml.RX(params[0], wires=0)\n",
    "    qml.RY(params[1], wires=0)\n",
    "    return qml.probs(wires=0)\n",
    "\n",
    "print(qcircuit([0.54, 0.12]))"
   ]
  },
  {
   "cell_type": "code",
   "execution_count": 129,
   "metadata": {},
   "outputs": [
    {
     "name": "stdout",
     "output_type": "stream",
     "text": [
      "0: ──RX(0.54)──RY(0.12)─┤  Probs\n"
     ]
    }
   ],
   "source": [
    "drawer = qml.draw(qcircuit)\n",
    "print(drawer(params = [0.54, 0.12]))"
   ]
  },
  {
   "cell_type": "code",
   "execution_count": 130,
   "metadata": {},
   "outputs": [],
   "source": [
    "# Variational Classifiers"
   ]
  },
  {
   "cell_type": "code",
   "execution_count": 131,
   "metadata": {},
   "outputs": [],
   "source": [
    "from pennylane.optimize import NesterovMomentumOptimizer\n",
    "\n",
    "dev = qml.device(\"default.qubit\", wires=4)"
   ]
  },
  {
   "cell_type": "code",
   "execution_count": 132,
   "metadata": {},
   "outputs": [],
   "source": [
    "def layer(W):\n",
    "    qml.Rot(W[0, 0], W[0, 1], W[0, 2], wires=0) \n",
    "    qml.Rot(W[1, 0], W[1, 1], W[1, 2], wires=1) \n",
    "    qml.Rot(W[2, 0], W[2, 1], W[2, 2], wires=2) \n",
    "    qml.Rot(W[3, 0], W[3, 1], W[3, 2], wires=3)\n",
    "\n",
    "    qml.CNOT(wires=[0, 1]) \n",
    "    qml.CNOT(wires=[1, 2]) \n",
    "    qml.CNOT(wires=[2, 3]) \n",
    "    qml.CNOT(wires=[3, 0])"
   ]
  },
  {
   "cell_type": "code",
   "execution_count": 133,
   "metadata": {},
   "outputs": [],
   "source": [
    "def statepreparation(x):\n",
    "    qml.BasisState(x, wires=[0, 1, 2, 3])\n",
    "\n",
    "@qml.qnode(dev)\n",
    "def circuit(weights, x):\n",
    "    \n",
    "    statepreparation(x)\n",
    "\n",
    "    for W in weights:\n",
    "        layer(W)\n",
    "    return qml.expval(qml.PauliZ(0))"
   ]
  },
  {
   "cell_type": "code",
   "execution_count": 134,
   "metadata": {},
   "outputs": [],
   "source": [
    "def variational_classifier(weights, bias, x):\n",
    "    return circuit(weights, x) + bias\n",
    "\n",
    "def square_loss(labels, predictions):\n",
    "    loss = 0\n",
    "    for l, p in zip(labels, predictions):\n",
    "        loss = loss + (l - p) ** 2\n",
    "    loss = loss / len(labels)\n",
    "    return loss"
   ]
  },
  {
   "cell_type": "code",
   "execution_count": 135,
   "metadata": {},
   "outputs": [],
   "source": [
    "def accuracy(labels, predictions):\n",
    "    loss = 0\n",
    "    for l, p in zip(labels, predictions):\n",
    "        if abs(l - p) < 1e-5:\n",
    "            loss = loss + 1\n",
    "    loss = loss / len(labels)\n",
    "    return loss\n",
    "\n",
    "def cost(weights, bias, X, Y):\n",
    "    predictions = [variational_classifier(weights, bias, x) for x in X]\n",
    "    return square_loss(Y, predictions)"
   ]
  },
  {
   "cell_type": "code",
   "execution_count": 136,
   "metadata": {},
   "outputs": [
    {
     "name": "stdout",
     "output_type": "stream",
     "text": [
      "X = [0. 0. 0. 0.], Y = -1\n",
      "X = [0. 0. 0. 1.], Y = 1\n",
      "X = [0. 0. 1. 0.], Y = -1\n",
      "X = [0. 0. 1. 1.], Y = -1\n",
      "X = [0. 1. 0. 0.], Y = 1\n",
      "...\n"
     ]
    }
   ],
   "source": [
    "data = np.loadtxt('parity.txt')\n",
    "X = np.array(data[:, :-1], requires_grad=False)\n",
    "Y = np.array(data[:, -1], requires_grad=False)\n",
    "Y = Y * 2 - np.ones(len(Y)) # shift label from {0, 1} to {-1, 1}\n",
    "\n",
    "for i in range(5):\n",
    "    print(\"X = {}, Y = {:d}\".format(X[i], int(Y[i])))\n",
    "    \n",
    "print(\"...\")"
   ]
  },
  {
   "cell_type": "code",
   "execution_count": 137,
   "metadata": {},
   "outputs": [
    {
     "name": "stdout",
     "output_type": "stream",
     "text": [
      "[[[ 0.01764052  0.00400157  0.00978738]\n",
      "  [ 0.02240893  0.01867558 -0.00977278]\n",
      "  [ 0.00950088 -0.00151357 -0.00103219]\n",
      "  [ 0.00410599  0.00144044  0.01454274]]\n",
      "\n",
      " [[ 0.00761038  0.00121675  0.00443863]\n",
      "  [ 0.00333674  0.01494079 -0.00205158]\n",
      "  [ 0.00313068 -0.00854096 -0.0255299 ]\n",
      "  [ 0.00653619  0.00864436 -0.00742165]]] 0.0\n"
     ]
    }
   ],
   "source": [
    "np.random.seed(0)\n",
    "num_qubits = 4\n",
    "num_layers = 2\n",
    "weights_init = 0.01 * np.random.randn(num_layers, num_qubits, 3, requires_grad=True)\n",
    "bias_init = np.array(0.0, requires_grad=True)\n",
    "\n",
    "print(weights_init, bias_init)"
   ]
  },
  {
   "cell_type": "code",
   "execution_count": 138,
   "metadata": {},
   "outputs": [
    {
     "name": "stdout",
     "output_type": "stream",
     "text": [
      "Iter:     1 | Cost: 4.4033157 | Accuracy: 0.5625000 \n",
      "Iter:     2 | Cost: 2.2725797 | Accuracy: 0.4375000 \n",
      "Iter:     3 | Cost: 2.0090492 | Accuracy: 0.4375000 \n",
      "Iter:     4 | Cost: 1.6826451 | Accuracy: 0.4375000 \n",
      "Iter:     5 | Cost: 1.1116542 | Accuracy: 0.5625000 \n",
      "Iter:     6 | Cost: 1.1706354 | Accuracy: 0.5625000 \n",
      "Iter:     7 | Cost: 1.3254411 | Accuracy: 0.5625000 \n",
      "Iter:     8 | Cost: 0.5796337 | Accuracy: 0.9375000 \n",
      "Iter:     9 | Cost: 0.2304945 | Accuracy: 0.9375000 \n",
      "Iter:    10 | Cost: 0.2620422 | Accuracy: 0.9375000 \n",
      "Iter:    11 | Cost: 0.2925748 | Accuracy: 0.9375000 \n",
      "Iter:    12 | Cost: 0.2987950 | Accuracy: 0.9375000 \n",
      "Iter:    13 | Cost: 0.2776045 | Accuracy: 0.9375000 \n",
      "Iter:    14 | Cost: 0.2306265 | Accuracy: 0.9375000 \n",
      "Iter:    15 | Cost: 0.6677253 | Accuracy: 0.5625000 \n",
      "Iter:    16 | Cost: 0.6016584 | Accuracy: 0.8125000 \n",
      "Iter:    17 | Cost: 0.6462330 | Accuracy: 0.8125000 \n",
      "Iter:    18 | Cost: 0.8851776 | Accuracy: 0.5625000 \n",
      "Iter:    19 | Cost: 0.3543852 | Accuracy: 0.9375000 \n",
      "Iter:    20 | Cost: 0.3779141 | Accuracy: 0.8125000 \n",
      "Iter:    21 | Cost: 0.3517674 | Accuracy: 0.9375000 \n",
      "Iter:    22 | Cost: 0.3860078 | Accuracy: 0.9375000 \n",
      "Iter:    23 | Cost: 0.2279167 | Accuracy: 0.9375000 \n",
      "Iter:    24 | Cost: 0.3176327 | Accuracy: 0.9375000 \n",
      "Iter:    25 | Cost: 1.2164359 | Accuracy: 0.5625000 \n"
     ]
    }
   ],
   "source": [
    "opt = NesterovMomentumOptimizer(0.5)\n",
    "batch_size = 5\n",
    "\n",
    "weights = weights_init \n",
    "bias = bias_init \n",
    "\n",
    "for it in range(25):\n",
    "    # Update the weights by one optimizer step \n",
    "    batch_index = np.random.randint(0, len(X), (batch_size,))\n",
    "    X_batch = X[batch_index] \n",
    "    Y_batch = Y[batch_index] \n",
    "    weights, bias, _, _ = opt.step(cost, weights, bias, X_batch, Y_batch)\n",
    "    # Compute accuracy \n",
    "    predictions = [np.sign(variational_classifier(weights, bias, x)) for x in X] \n",
    "    acc = accuracy(Y, predictions)\n",
    "    print(\"Iter: {:5d} | Cost: {:0.7f} | Accuracy: {:0.7f} \".format(\n",
    "        it + 1, cost(weights, bias, X, Y), acc))"
   ]
  }
 ],
 "metadata": {
  "kernelspec": {
   "display_name": "Python 3.9.12 ('base')",
   "language": "python",
   "name": "python3"
  },
  "language_info": {
   "codemirror_mode": {
    "name": "ipython",
    "version": 3
   },
   "file_extension": ".py",
   "mimetype": "text/x-python",
   "name": "python",
   "nbconvert_exporter": "python",
   "pygments_lexer": "ipython3",
   "version": "3.9.12"
  },
  "orig_nbformat": 4,
  "vscode": {
   "interpreter": {
    "hash": "9977aa44dbb7227eea4c6f56507b655642fd2d7df56103bd2656e1cd96cec546"
   }
  }
 },
 "nbformat": 4,
 "nbformat_minor": 2
}
